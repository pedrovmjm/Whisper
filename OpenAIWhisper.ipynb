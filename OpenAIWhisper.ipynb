{
 "cells": [
  {
   "cell_type": "code",
   "execution_count": null,
   "metadata": {
    "colab": {
     "base_uri": "https://localhost:8080/"
    },
    "id": "K54UvUNp_Yne",
    "outputId": "bd69fd23-07ac-42e2-ba9b-c5b2ae00aa00"
   },
   "outputs": [],
   "source": [
    "#!pip install -U openai-whisper\n",
    "#!pip3 install googletrans==3.1.0a0\n",
    "#!pip install pytube"
   ]
  },
  {
   "cell_type": "code",
   "execution_count": null,
   "metadata": {},
   "outputs": [],
   "source": [
    "#!pip install git+https://github.com/openai/whisper.git "
   ]
  },
  {
   "cell_type": "code",
   "execution_count": null,
   "metadata": {
    "colab": {
     "base_uri": "https://localhost:8080/"
    },
    "id": "bAfRAcoKYzn3",
    "outputId": "2f9dfb19-672e-4b5e-f504-4f175fa51edc"
   },
   "outputs": [],
   "source": [
    "#!pip install git+https://github.com/pytube/pytube"
   ]
  },
  {
   "cell_type": "code",
   "execution_count": 44,
   "metadata": {
    "id": "Z3QV1hEH4WeL"
   },
   "outputs": [],
   "source": [
    "import torch\n",
    "import os\n",
    "\n",
    "# Initialize the device\n",
    "device = \"cuda\" if torch.cuda.is_available() else \"cpu\""
   ]
  },
  {
   "cell_type": "code",
   "execution_count": 45,
   "metadata": {},
   "outputs": [],
   "source": [
    "import whisper"
   ]
  },
  {
   "cell_type": "code",
   "execution_count": 46,
   "metadata": {
    "id": "KFrJwXjf2ycz"
   },
   "outputs": [],
   "source": [
    "from pytube import YouTube\n",
    "\n",
    "def video_to_audio(video_URL, destination, final_filename):\n",
    "  # Get the video\n",
    "  video = YouTube(video_URL)\n",
    "\n",
    "  # Convert video to Audio\n",
    "  audio = video.streams.filter(only_audio=True).first()\n",
    "\n",
    "  # Save to destination\n",
    "  output = audio.download(output_path = destination)\n",
    "\n",
    "  _, ext = os.path.splitext(output)\n",
    "  new_file = final_filename + '.mp3'\n",
    "\n",
    "  # Change the name of the file\n",
    "  os.rename(output, new_file)"
   ]
  },
  {
   "cell_type": "code",
   "execution_count": 47,
   "metadata": {
    "id": "TmmFy6FN7N3Q"
   },
   "outputs": [],
   "source": [
    "from datetime import timedelta\n",
    "import os\n",
    "import whisper\n",
    "import torch\n",
    "\n",
    "def transcribe_audio(video_name):\n",
    "    model = whisper.load_model(\"medium\") # Change this to your desired model\n",
    "    print(\"Whisper model loaded.\")\n",
    "    transcribe = model.transcribe(audio=video_name)\n",
    "    segments = transcribe['segments']\n",
    "\n",
    "    for segment in segments:\n",
    "        startTime = str(0)+str(timedelta(seconds=int(segment['start'])))+',000'\n",
    "        endTime = str(0)+str(timedelta(seconds=int(segment['end'])))+',000'\n",
    "        text = segment['text']\n",
    "        segmentId = segment['id']+1\n",
    "        segment = f\"{segmentId}\\n{startTime} --> {endTime}\\n{text[1:] if text[0] == ' ' else text}\\n\\n\"\n",
    "\n",
    "        video_name = video_name.replace(\".mp3\",\"\")\n",
    "        srtFilename =f\"{video_name}.str\"\n",
    "        with open(srtFilename, 'a', encoding='utf-8') as srtFile:\n",
    "            srtFile.write(segment)\n",
    "\n",
    "    return srtFilename"
   ]
  },
  {
   "cell_type": "code",
   "execution_count": 57,
   "metadata": {
    "id": "nIwa6pnVPNgm"
   },
   "outputs": [],
   "source": [
    "from googletrans import Translator, constants\n",
    "from pprint import pprint\n",
    "\n",
    "def translate_google(file_name):\n",
    "  # init the Google API translator\n",
    "    translator = Translator()\n",
    "\n",
    "    file = open(file_name, \"r\")\n",
    "    lines = file.readlines()\n",
    "    file.close()\n",
    "\n",
    "    traducao = []\n",
    "    translations = translator.translate(lines, dest=\"pt\")\n",
    "    for translation in translations:\n",
    "        if(translation!=\"\\n\"):\n",
    "            traducao.append(translation.text +\"\\n\")\n",
    "        else:\n",
    "            traducao.append(\"\\n\")\n",
    "\n",
    "    texto = \"\"\n",
    "    for palavras in traducao:\n",
    "        texto = texto + str(palavras)\n",
    "\n",
    "    with open(f\"traduzido_{file_name}\", 'a', encoding='utf-8') as srtFile:\n",
    "        srtFile.write(str(texto))"
   ]
  },
  {
   "cell_type": "code",
   "execution_count": 58,
   "metadata": {
    "id": "GTbUqyWq4svn"
   },
   "outputs": [],
   "source": [
    "video_URL = 'https://www.youtube.com/watch?v=JT3a9HCrv8w'\n",
    "destination = \".\"\n",
    "final_filename = YouTube(video_URL).title"
   ]
  },
  {
   "cell_type": "code",
   "execution_count": 59,
   "metadata": {},
   "outputs": [],
   "source": [
    "video_to_audio(video_URL, destination, final_filename)"
   ]
  },
  {
   "cell_type": "code",
   "execution_count": 60,
   "metadata": {},
   "outputs": [
    {
     "name": "stdout",
     "output_type": "stream",
     "text": [
      "Whisper model loaded.\n"
     ]
    },
    {
     "name": "stderr",
     "output_type": "stream",
     "text": [
      "C:\\Users\\PEDRO\\.conda\\envs\\openai\\lib\\site-packages\\whisper\\transcribe.py:114: UserWarning: FP16 is not supported on CPU; using FP32 instead\n",
      "  warnings.warn(\"FP16 is not supported on CPU; using FP32 instead\")\n"
     ]
    }
   ],
   "source": [
    "str_file_name = transcribe_audio(f\"{final_filename}.mp3\")"
   ]
  },
  {
   "cell_type": "code",
   "execution_count": 61,
   "metadata": {},
   "outputs": [],
   "source": [
    "translate_google(str_file_name)"
   ]
  },
  {
   "cell_type": "code",
   "execution_count": 62,
   "metadata": {},
   "outputs": [],
   "source": [
    "def download_Video(video_URL):\n",
    "    video = YouTube(video_URL)\n",
    "    itag = None\n",
    "    res= 0\n",
    "    \n",
    "    yt = video.streams.filter(adaptive=True)\n",
    "    \n",
    "    for stream in yt:\n",
    "        try:\n",
    "            if(int(stream.resolution.replace(\"p\",\"\"))>res):\n",
    "                res=int(stream.resolution.replace(\"p\",\"\"))\n",
    "                itag=stream.itag\n",
    "        except:\n",
    "            pass\n",
    "\n",
    "    yt.get_by_itag(itag).download()"
   ]
  },
  {
   "cell_type": "code",
   "execution_count": 63,
   "metadata": {},
   "outputs": [],
   "source": [
    "download_Video(video_URL)"
   ]
  },
  {
   "cell_type": "code",
   "execution_count": 64,
   "metadata": {},
   "outputs": [],
   "source": [
    "import os\n",
    "import re\n",
    "\n",
    "def rename_files(final_filename):\n",
    "    path = \"C:/Users/PEDRO/Desktop/C\"\n",
    "    for filename in os.listdir(path):\n",
    "        if filename.endswith('.mp3'):\n",
    "            continue\n",
    "        if filename.endswith('.str'):\n",
    "            continue\n",
    "        else:\n",
    "            if final_filename.replace(\"'\",\"\") in filename:\n",
    "                os.rename(os.path.join(path, filename), os.path.join(path, final_filename.split('.')[0] + '.mp4'))"
   ]
  },
  {
   "cell_type": "code",
   "execution_count": 65,
   "metadata": {},
   "outputs": [],
   "source": [
    "rename_files(final_filename)"
   ]
  },
  {
   "cell_type": "code",
   "execution_count": 66,
   "metadata": {},
   "outputs": [
    {
     "data": {
      "text/plain": [
       "(None, None)"
      ]
     },
     "execution_count": 66,
     "metadata": {},
     "output_type": "execute_result"
    }
   ],
   "source": [
    "import ffmpeg\n",
    "\n",
    "video_stream = ffmpeg.input(f'{final_filename}.mp4')\n",
    "audio_stream = ffmpeg.input(f'{final_filename}.mp3')\n",
    "ffmpeg.output(audio_stream, video_stream, f'VideoWith_audio_{final_filename}.mp4').run()"
   ]
  },
  {
   "cell_type": "code",
   "execution_count": null,
   "metadata": {},
   "outputs": [],
   "source": []
  },
  {
   "cell_type": "code",
   "execution_count": 67,
   "metadata": {},
   "outputs": [],
   "source": [
    "video_path = f'VideoWith_audio_{final_filename}.mp4'\n",
    "subtitle_path = f\"{final_filename}.str\"\n",
    "output_path = f\"LegendaOriginal_{final_filename}.mp4\""
   ]
  },
  {
   "cell_type": "code",
   "execution_count": 68,
   "metadata": {},
   "outputs": [],
   "source": [
    "import subprocess\n",
    "\n",
    "try:\n",
    "    subprocess.check_output(['ffmpeg', '-i', video_path, '-i', subtitle_path , '-c', 'copy', '-c:s', 'mov_text', output_path], stderr=subprocess.STDOUT)\n",
    "except subprocess.CalledProcessError as e:\n",
    "    print(e.output)"
   ]
  },
  {
   "cell_type": "code",
   "execution_count": null,
   "metadata": {},
   "outputs": [],
   "source": []
  },
  {
   "cell_type": "code",
   "execution_count": 69,
   "metadata": {},
   "outputs": [],
   "source": [
    "video_path = f'VideoWith_audio_{final_filename}.mp4'\n",
    "subtitle_path = f\"traduzido_{final_filename}.str\"\n",
    "output_path = f\"LegendaTraduzida_{final_filename}.mp4\""
   ]
  },
  {
   "cell_type": "code",
   "execution_count": 71,
   "metadata": {},
   "outputs": [],
   "source": [
    "import subprocess\n",
    "\n",
    "try:\n",
    "    subprocess.check_output(['ffmpeg', '-i', video_path, '-i', subtitle_path , '-c', 'copy', '-c:s', 'mov_text', output_path], stderr=subprocess.STDOUT)\n",
    "except subprocess.CalledProcessError as e:\n",
    "    print(e.output)"
   ]
  },
  {
   "cell_type": "code",
   "execution_count": null,
   "metadata": {},
   "outputs": [],
   "source": []
  },
  {
   "cell_type": "code",
   "execution_count": null,
   "metadata": {},
   "outputs": [],
   "source": []
  },
  {
   "cell_type": "code",
   "execution_count": null,
   "metadata": {},
   "outputs": [],
   "source": []
  },
  {
   "cell_type": "code",
   "execution_count": null,
   "metadata": {},
   "outputs": [],
   "source": []
  },
  {
   "cell_type": "code",
   "execution_count": null,
   "metadata": {
    "id": "f9aAWaSaoyFL"
   },
   "outputs": [],
   "source": []
  },
  {
   "cell_type": "code",
   "execution_count": null,
   "metadata": {
    "id": "fOFg0caboyIK"
   },
   "outputs": [],
   "source": []
  },
  {
   "cell_type": "code",
   "execution_count": null,
   "metadata": {
    "id": "z_b730ysoyK_"
   },
   "outputs": [],
   "source": []
  },
  {
   "cell_type": "code",
   "execution_count": null,
   "metadata": {
    "id": "7GV5E1iP3OPC"
   },
   "outputs": [],
   "source": []
  },
  {
   "cell_type": "code",
   "execution_count": null,
   "metadata": {
    "id": "tj3nTqqPgSSy"
   },
   "outputs": [],
   "source": [
    "import pygame\n",
    "import sys\n",
    "import random\n",
    "import string\n",
    "\n",
    "# Inicializando o Pygame\n",
    "pygame.init()\n",
    "\n",
    "# Configurações da janela\n",
    "largura_tela = 800\n",
    "altura_tela = 600\n",
    "tela = pygame.display.set_mode((largura_tela, altura_tela))\n",
    "pygame.display.set_caption(\"\")\n",
    "\n",
    "# Configurações da fonte\n",
    "fonte_titulo = pygame.font.SysFont(\"Arial\", 60)\n",
    "fonte_palavra = pygame.font.SysFont(\"Arial\", 40)\n",
    "fonte_letras = pygame.font.SysFont(\"Arial\", 30)\n",
    "\n",
    "# Cores\n",
    "BRANCO = (255, 255, 255)\n",
    "PRETO = (0, 0, 0)\n",
    "\n",
    "# Lista de frases\n",
    "file = open(\"traduzido_Life could be dream monke.str\", \"r\",encoding='utf-8')\n",
    "lines = file.readlines()\n",
    "file.close()\n",
    "\n",
    "\n",
    "nova_lista = list(filter(lambda x: x != '\\n', lines))\n",
    "\n",
    "\n",
    "frases = []\n",
    "minutos = []\n",
    "\n",
    "for i in range(1,len(nova_lista),3):\n",
    "    lista = str(nova_lista[i].replace(\"\\n\", \"\").replace(',000',\"\"))\n",
    "    inicio, fim = lista.split(\" --> \")\n",
    "    inicio_formatado = f\"{inicio[:2]}h:{inicio[3:5]}m:{inicio[6:]}s\"\n",
    "    fim_formatado = f\"{fim[:2]}h:{fim[3:5]}m:{fim[6:]}s\"\n",
    "    teste = inicio_formatado + \"-->\" + fim_formatado\n",
    "    minutos.append(teste)\n",
    "\n",
    "    \n",
    "for i in range(2,len(nova_lista),3):\n",
    "    frases.append(nova_lista[i].replace(\",\", \"\").replace(\".\", \"\").replace(\"\\n\", \"\"))\n",
    "\n",
    "\n",
    "minuto_atual =-1\n",
    "frase_atual = -1\n",
    "\n",
    "# Variáveis de jogo\n",
    "pontuacao = 0\n",
    "letras_digitadas = []\n",
    "letras_frase = []\n",
    "letras_adivinhadas = []\n",
    "\n",
    "# Função para preparar a próxima frase\n",
    "def proxima_frase():\n",
    "    global frase_atual, letras_frase, letras_adivinhadas,minuto_atual\n",
    "    frase_atual += 1\n",
    "    minuto_atual+=1\n",
    "    letras_frase = list(frases[frase_atual].lower())\n",
    "    letras_adivinhadas = [\"_\" if letra != \" \" else \" \" for letra in letras_frase]\n",
    "    letras_digitadas.clear()\n",
    "\n",
    "# Função para dividir a frase em linhas\n",
    "def dividir_frase_em_linhas(frase, limite_largura):\n",
    "    palavras = frase.split()\n",
    "    linhas = []\n",
    "    linha_atual = \"\"\n",
    "    for palavra in palavras:\n",
    "        if fonte_palavra.size(linha_atual + palavra + \" \")[0] <= limite_largura:\n",
    "            linha_atual += palavra + \" \"\n",
    "        else:\n",
    "            linhas.append(linha_atual)\n",
    "            linha_atual = palavra + \" \"\n",
    "    linhas.append(linha_atual)\n",
    "    return linhas\n",
    "\n",
    "# Preparar a primeira frase\n",
    "proxima_frase()\n",
    "\n",
    "# Loop principal do jogo\n",
    "while True:\n",
    "    # Eventos do Pygame\n",
    "    for event in pygame.event.get():\n",
    "        if event.type == pygame.QUIT:\n",
    "            sys.exit()\n",
    "        elif event.type == pygame.KEYDOWN:\n",
    "            if event.unicode.isalpha() and event.unicode.lower() not in letras_digitadas:\n",
    "                letra = event.unicode.lower()\n",
    "                letras_digitadas.append(letra)\n",
    "                if letra in letras_frase:\n",
    "                    for i in range(len(letras_frase)):\n",
    "                        if letras_frase[i] == letra:\n",
    "                            letras_adivinhadas[i] = letra\n",
    "                    pontuacao += 1\n",
    "                    if \"_\" not in letras_adivinhadas:\n",
    "                        venceu_surface = fonte_titulo.render(\"Próxima Frase\", True, BRANCO)\n",
    "                        tela.blit(venceu_surface, (largura_tela // 2 - venceu_surface.get_width() // 2, 350))\n",
    "                        pygame.display.update()\n",
    "                        pygame.time.wait(5000)\n",
    "                        if frase_atual < len(frases) - 1:\n",
    "                            proxima_frase()\n",
    "                        else:\n",
    "                            venceu_surface = fonte_titulo.render(\"Você completo o jogo. Parabés.\", True, BRANCO)\n",
    "                            sys.exit()\n",
    "\n",
    "                else:\n",
    "                    pontuacao -= 1\n",
    "                    \n",
    "    tela.fill(PRETO)\n",
    "\n",
    "    # Quebrar a frase em linhas se necessário\n",
    "    linhas_frase = []\n",
    "    linha_atual = \"\"\n",
    "    for letra in letras_adivinhadas:\n",
    "        if fonte_palavra.size(linha_atual + letra)[0] > largura_tela - 100:\n",
    "            linhas_frase.append(linha_atual)\n",
    "            linha_atual = letra\n",
    "        else:\n",
    "            linha_atual += letra\n",
    "    linhas_frase.append(linha_atual)\n",
    "    \n",
    "    \n",
    "    altura_minutos = fonte_letras.get_height() + 10\n",
    "    for i, linha in enumerate(dividir_frase_em_linhas(minutos[minuto_atual], largura_tela - 100)):\n",
    "        linha_surface = fonte_letras.render(\"A frase esta nesse intervalo:\"+str(linha), True, BRANCO)\n",
    "        tela.blit(linha_surface, (50, 100 + i * altura_minutos))\n",
    "\n",
    "    # Desenhar as linhas da frase\n",
    "    altura_linha = fonte_palavra.get_height() + 10\n",
    "    for i, linha in enumerate(linhas_frase):\n",
    "        linha_surface = fonte_palavra.render(linha, True, BRANCO)\n",
    "        tela.blit(linha_surface, (50, 150 + i * altura_linha))\n",
    "        \n",
    "    # Desenhar as letras digitadas\n",
    "    letras_digitadas_surface = fonte_letras.render(\"Letras digitadas: \" + \" \".join(letras_digitadas), True, BRANCO)\n",
    "    tela.blit(letras_digitadas_surface, (20, 400))\n",
    "\n",
    "    # Desenhar as letras erradas\n",
    "    letras_erradas = [letra.upper() for letra in letras_digitadas if letra not in letras_frase]\n",
    "    if len(letras_erradas) > 0:\n",
    "        letras_erradas_surface = fonte_letras.render(\"Letras erradas: \" + \" \".join(letras_erradas), True, BRANCO)\n",
    "        tela.blit(letras_erradas_surface, (20, 450))\n",
    "\n",
    "    # Desenhar as letras corretas\n",
    "    letras_corretas = [letra.upper() for letra in letras_digitadas if letra in letras_frase]\n",
    "    if len(letras_corretas) > 0:\n",
    "        letras_corretas_surface = fonte_letras.render(\"Letras corretas: \"+ \" \" .join(letras_corretas), True, BRANCO)\n",
    "        tela.blit(letras_corretas_surface, (20, 500))\n",
    "\n",
    "    # Desenhar a pontuação\n",
    "    pontuacao_surface = fonte_letras.render(\"Pontuação: \" + str(pontuacao), True, BRANCO)\n",
    "    tela.blit(pontuacao_surface, (largura_tela - pontuacao_surface.get_width() - 20, 20))\n",
    "\n",
    "    # Atualizar a tela\n",
    "    pygame.display.update()\n"
   ]
  }
 ],
 "metadata": {
  "colab": {
   "provenance": []
  },
  "kernelspec": {
   "display_name": "Python 3 (ipykernel)",
   "language": "python",
   "name": "python3"
  },
  "language_info": {
   "codemirror_mode": {
    "name": "ipython",
    "version": 3
   },
   "file_extension": ".py",
   "mimetype": "text/x-python",
   "name": "python",
   "nbconvert_exporter": "python",
   "pygments_lexer": "ipython3",
   "version": "3.8.16"
  }
 },
 "nbformat": 4,
 "nbformat_minor": 1
}
